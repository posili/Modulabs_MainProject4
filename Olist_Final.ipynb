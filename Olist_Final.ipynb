{
  "nbformat": 4,
  "nbformat_minor": 0,
  "metadata": {
    "colab": {
      "provenance": [],
      "collapsed_sections": [
        "FyzS8Fi9_QRQ"
      ]
    },
    "kernelspec": {
      "name": "python3",
      "display_name": "Python 3"
    },
    "language_info": {
      "name": "python"
    }
  },
  "cells": [
    {
      "cell_type": "markdown",
      "source": [
        "# **사업 분야 확장을 위한 고객 기반 카테고리 분석**"
      ],
      "metadata": {
        "id": "NzdbgrL0ACJh"
      }
    },
    {
      "cell_type": "code",
      "source": [],
      "metadata": {
        "id": "zXmizoPgABul"
      },
      "execution_count": null,
      "outputs": []
    },
    {
      "cell_type": "code",
      "execution_count": 1,
      "metadata": {
        "colab": {
          "base_uri": "https://localhost:8080/",
          "height": 316
        },
        "id": "MlD0KlimaGT1",
        "outputId": "6a61dbce-588d-47a1-e68a-5fb71725d858"
      },
      "outputs": [
        {
          "output_type": "error",
          "ename": "MessageError",
          "evalue": "Error: credential propagation was unsuccessful",
          "traceback": [
            "\u001b[0;31m---------------------------------------------------------------------------\u001b[0m",
            "\u001b[0;31mMessageError\u001b[0m                              Traceback (most recent call last)",
            "\u001b[0;32m<ipython-input-1-9a9a89271754>\u001b[0m in \u001b[0;36m<cell line: 0>\u001b[0;34m()\u001b[0m\n\u001b[1;32m      1\u001b[0m \u001b[0;32mfrom\u001b[0m \u001b[0mgoogle\u001b[0m\u001b[0;34m.\u001b[0m\u001b[0mcolab\u001b[0m \u001b[0;32mimport\u001b[0m \u001b[0mdrive\u001b[0m\u001b[0;34m\u001b[0m\u001b[0;34m\u001b[0m\u001b[0m\n\u001b[0;32m----> 2\u001b[0;31m \u001b[0mdrive\u001b[0m\u001b[0;34m.\u001b[0m\u001b[0mmount\u001b[0m\u001b[0;34m(\u001b[0m\u001b[0;34m'/content/gdrive/'\u001b[0m\u001b[0;34m)\u001b[0m\u001b[0;34m\u001b[0m\u001b[0;34m\u001b[0m\u001b[0m\n\u001b[0m",
            "\u001b[0;32m/usr/local/lib/python3.11/dist-packages/google/colab/drive.py\u001b[0m in \u001b[0;36mmount\u001b[0;34m(mountpoint, force_remount, timeout_ms, readonly)\u001b[0m\n\u001b[1;32m     98\u001b[0m \u001b[0;32mdef\u001b[0m \u001b[0mmount\u001b[0m\u001b[0;34m(\u001b[0m\u001b[0mmountpoint\u001b[0m\u001b[0;34m,\u001b[0m \u001b[0mforce_remount\u001b[0m\u001b[0;34m=\u001b[0m\u001b[0;32mFalse\u001b[0m\u001b[0;34m,\u001b[0m \u001b[0mtimeout_ms\u001b[0m\u001b[0;34m=\u001b[0m\u001b[0;36m120000\u001b[0m\u001b[0;34m,\u001b[0m \u001b[0mreadonly\u001b[0m\u001b[0;34m=\u001b[0m\u001b[0;32mFalse\u001b[0m\u001b[0;34m)\u001b[0m\u001b[0;34m:\u001b[0m\u001b[0;34m\u001b[0m\u001b[0;34m\u001b[0m\u001b[0m\n\u001b[1;32m     99\u001b[0m   \u001b[0;34m\"\"\"Mount your Google Drive at the specified mountpoint path.\"\"\"\u001b[0m\u001b[0;34m\u001b[0m\u001b[0;34m\u001b[0m\u001b[0m\n\u001b[0;32m--> 100\u001b[0;31m   return _mount(\n\u001b[0m\u001b[1;32m    101\u001b[0m       \u001b[0mmountpoint\u001b[0m\u001b[0;34m,\u001b[0m\u001b[0;34m\u001b[0m\u001b[0;34m\u001b[0m\u001b[0m\n\u001b[1;32m    102\u001b[0m       \u001b[0mforce_remount\u001b[0m\u001b[0;34m=\u001b[0m\u001b[0mforce_remount\u001b[0m\u001b[0;34m,\u001b[0m\u001b[0;34m\u001b[0m\u001b[0;34m\u001b[0m\u001b[0m\n",
            "\u001b[0;32m/usr/local/lib/python3.11/dist-packages/google/colab/drive.py\u001b[0m in \u001b[0;36m_mount\u001b[0;34m(mountpoint, force_remount, timeout_ms, ephemeral, readonly)\u001b[0m\n\u001b[1;32m    135\u001b[0m   )\n\u001b[1;32m    136\u001b[0m   \u001b[0;32mif\u001b[0m \u001b[0mephemeral\u001b[0m\u001b[0;34m:\u001b[0m\u001b[0;34m\u001b[0m\u001b[0;34m\u001b[0m\u001b[0m\n\u001b[0;32m--> 137\u001b[0;31m     _message.blocking_request(\n\u001b[0m\u001b[1;32m    138\u001b[0m         \u001b[0;34m'request_auth'\u001b[0m\u001b[0;34m,\u001b[0m\u001b[0;34m\u001b[0m\u001b[0;34m\u001b[0m\u001b[0m\n\u001b[1;32m    139\u001b[0m         \u001b[0mrequest\u001b[0m\u001b[0;34m=\u001b[0m\u001b[0;34m{\u001b[0m\u001b[0;34m'authType'\u001b[0m\u001b[0;34m:\u001b[0m \u001b[0;34m'dfs_ephemeral'\u001b[0m\u001b[0;34m}\u001b[0m\u001b[0;34m,\u001b[0m\u001b[0;34m\u001b[0m\u001b[0;34m\u001b[0m\u001b[0m\n",
            "\u001b[0;32m/usr/local/lib/python3.11/dist-packages/google/colab/_message.py\u001b[0m in \u001b[0;36mblocking_request\u001b[0;34m(request_type, request, timeout_sec, parent)\u001b[0m\n\u001b[1;32m    174\u001b[0m       \u001b[0mrequest_type\u001b[0m\u001b[0;34m,\u001b[0m \u001b[0mrequest\u001b[0m\u001b[0;34m,\u001b[0m \u001b[0mparent\u001b[0m\u001b[0;34m=\u001b[0m\u001b[0mparent\u001b[0m\u001b[0;34m,\u001b[0m \u001b[0mexpect_reply\u001b[0m\u001b[0;34m=\u001b[0m\u001b[0;32mTrue\u001b[0m\u001b[0;34m\u001b[0m\u001b[0;34m\u001b[0m\u001b[0m\n\u001b[1;32m    175\u001b[0m   )\n\u001b[0;32m--> 176\u001b[0;31m   \u001b[0;32mreturn\u001b[0m \u001b[0mread_reply_from_input\u001b[0m\u001b[0;34m(\u001b[0m\u001b[0mrequest_id\u001b[0m\u001b[0;34m,\u001b[0m \u001b[0mtimeout_sec\u001b[0m\u001b[0;34m)\u001b[0m\u001b[0;34m\u001b[0m\u001b[0;34m\u001b[0m\u001b[0m\n\u001b[0m",
            "\u001b[0;32m/usr/local/lib/python3.11/dist-packages/google/colab/_message.py\u001b[0m in \u001b[0;36mread_reply_from_input\u001b[0;34m(message_id, timeout_sec)\u001b[0m\n\u001b[1;32m    101\u001b[0m     ):\n\u001b[1;32m    102\u001b[0m       \u001b[0;32mif\u001b[0m \u001b[0;34m'error'\u001b[0m \u001b[0;32min\u001b[0m \u001b[0mreply\u001b[0m\u001b[0;34m:\u001b[0m\u001b[0;34m\u001b[0m\u001b[0;34m\u001b[0m\u001b[0m\n\u001b[0;32m--> 103\u001b[0;31m         \u001b[0;32mraise\u001b[0m \u001b[0mMessageError\u001b[0m\u001b[0;34m(\u001b[0m\u001b[0mreply\u001b[0m\u001b[0;34m[\u001b[0m\u001b[0;34m'error'\u001b[0m\u001b[0;34m]\u001b[0m\u001b[0;34m)\u001b[0m\u001b[0;34m\u001b[0m\u001b[0;34m\u001b[0m\u001b[0m\n\u001b[0m\u001b[1;32m    104\u001b[0m       \u001b[0;32mreturn\u001b[0m \u001b[0mreply\u001b[0m\u001b[0;34m.\u001b[0m\u001b[0mget\u001b[0m\u001b[0;34m(\u001b[0m\u001b[0;34m'data'\u001b[0m\u001b[0;34m,\u001b[0m \u001b[0;32mNone\u001b[0m\u001b[0;34m)\u001b[0m\u001b[0;34m\u001b[0m\u001b[0;34m\u001b[0m\u001b[0m\n\u001b[1;32m    105\u001b[0m \u001b[0;34m\u001b[0m\u001b[0m\n",
            "\u001b[0;31mMessageError\u001b[0m: Error: credential propagation was unsuccessful"
          ]
        }
      ],
      "source": [
        "from google.colab import drive\n",
        "drive.mount('/content/gdrive/')\n"
      ]
    },
    {
      "cell_type": "code",
      "source": [
        "import pandas as pd\n",
        "import matplotlib.pyplot as plt\n",
        "import seaborn as sns"
      ],
      "metadata": {
        "id": "ssbjATpEaVs-"
      },
      "execution_count": null,
      "outputs": []
    },
    {
      "cell_type": "markdown",
      "source": [],
      "metadata": {
        "id": "ycsDJ9qnFQiM"
      }
    },
    {
      "cell_type": "markdown",
      "source": [
        "#**데이터 전처리**"
      ],
      "metadata": {
        "id": "qRahs-0F7T_g"
      }
    },
    {
      "cell_type": "markdown",
      "source": [
        "##카테고리 이름 영어로 변경\n",
        "(제품 카테고리명이 포르투갈어로 되어 있음, 영어로 번역된 데이터셋으로 대체)"
      ],
      "metadata": {
        "id": "NgQXLusOaod_"
      }
    },
    {
      "cell_type": "code",
      "source": [
        "products = products.merge(category, left_on='product_category_name',right_on='product_category_name', how='left')"
      ],
      "metadata": {
        "id": "vK3Qa3ENajo6"
      },
      "execution_count": null,
      "outputs": []
    },
    {
      "cell_type": "code",
      "source": [
        "products = products.drop(['product_category_name'], axis=1)"
      ],
      "metadata": {
        "id": "djkBwKJYapui"
      },
      "execution_count": null,
      "outputs": []
    },
    {
      "cell_type": "markdown",
      "source": [
        "##병합\n",
        "1.주문 테이블 + 주문 상품 테이블"
      ],
      "metadata": {
        "id": "79a9p5hAbDAx"
      }
    },
    {
      "cell_type": "code",
      "source": [
        "order_products_merged=order_items.merge(products, on='product_id',how='left')"
      ],
      "metadata": {
        "id": "t82h0WNiasnn"
      },
      "execution_count": null,
      "outputs": []
    },
    {
      "cell_type": "code",
      "source": [
        "order_products_merged"
      ],
      "metadata": {
        "id": "ct-QjaPRbGph"
      },
      "execution_count": null,
      "outputs": []
    },
    {
      "cell_type": "code",
      "source": [],
      "metadata": {
        "id": "O9zKMecSC8RW"
      },
      "execution_count": null,
      "outputs": []
    },
    {
      "cell_type": "markdown",
      "source": [
        "2.주문 테이블 + 고객 테이블"
      ],
      "metadata": {
        "id": "ieBcUXZ08j-i"
      }
    },
    {
      "cell_type": "code",
      "source": [
        "customers=customers.merge(orders,on='customer_id',how='left')"
      ],
      "metadata": {
        "id": "lLchAApZbQDL"
      },
      "execution_count": null,
      "outputs": []
    },
    {
      "cell_type": "code",
      "source": [
        "customers"
      ],
      "metadata": {
        "id": "zEfouWfAbRbQ"
      },
      "execution_count": null,
      "outputs": []
    },
    {
      "cell_type": "markdown",
      "source": [
        "3. 1과2를 병합\n",
        "\n",
        "(고객별 주문 내역과 주문 상품이 포함된 테이블 생성)\n",
        "\n"
      ],
      "metadata": {
        "id": "bWu2TVQW8vMO"
      }
    },
    {
      "cell_type": "code",
      "source": [
        "customers_orders=customers.merge(order_products_merged,on='order_id',how='left')"
      ],
      "metadata": {
        "id": "6EBq0NqGbScE"
      },
      "execution_count": null,
      "outputs": []
    },
    {
      "cell_type": "code",
      "source": [
        "customers_orders"
      ],
      "metadata": {
        "id": "NhMGpeD6bUL5"
      },
      "execution_count": null,
      "outputs": []
    },
    {
      "cell_type": "markdown",
      "source": [
        "##필요한 컬럼만 남기기\n",
        "(가설 검증에 불필요한 상품의 무게,배송 날짜 등의 컬럼 삭제)"
      ],
      "metadata": {
        "id": "uHZCXxqWbZK4"
      }
    },
    {
      "cell_type": "code",
      "source": [
        "# 필요한 컬럼 선택\n",
        "selected_columns = [\n",
        "    'order_id',\n",
        "    'customer_unique_id',\n",
        "    'customer_zip_code_prefix',\n",
        "    'customer_city',\n",
        "    'customer_state',\n",
        "    'order_item_id',\n",
        "    'product_id',\n",
        "    'product_category_name_english'\n",
        "]\n",
        "\n",
        "# 새로운 데이터프레임 생성\n",
        "customers_orders_new= customers_orders[selected_columns]\n"
      ],
      "metadata": {
        "id": "mdtDSxhM_mnm"
      },
      "execution_count": null,
      "outputs": []
    },
    {
      "cell_type": "code",
      "source": [
        "customers_orders_new"
      ],
      "metadata": {
        "id": "w3I6beyU_mnm"
      },
      "execution_count": null,
      "outputs": []
    },
    {
      "cell_type": "code",
      "source": [
        "# 결측치의 총 갯수 확인하기\n",
        "customers_orders_new.isna().sum()"
      ],
      "metadata": {
        "id": "RiPwD8sF_mnn"
      },
      "execution_count": null,
      "outputs": []
    },
    {
      "cell_type": "markdown",
      "source": [
        "결측치 날리기\n",
        "* 임의로 채우면 오히려 노이즈가 발생할 확률이 높다고 판단, 제거해도 치명적인 데이터 양이 아니라 drop 결정\n",
        "\n",
        "\n",
        "\n"
      ],
      "metadata": {
        "id": "fpX4YKKM_mnn"
      }
    },
    {
      "cell_type": "markdown",
      "source": [],
      "metadata": {
        "id": "iP6Td-Eu_l5g"
      }
    },
    {
      "cell_type": "markdown",
      "source": [
        "# **STEP01**"
      ],
      "metadata": {
        "id": "FyzS8Fi9_QRQ"
      }
    },
    {
      "cell_type": "markdown",
      "source": [
        "state의 수가 27개로 너무 많아서,  \n",
        "\n",
        "*   북부 (North)\tAC,AM, AP, PA, RO, RR, TO\n",
        "*   북동부 (Northeast)\tAL, BA, CE, MA, PB, PE, PI, RN, SE\n",
        "*   중서부 (Central-West)\tDF, GO, MT, MS\n",
        "*   남동부 (Southeast)\tES, MG, RJ, SP\n",
        "*   남부 (South)\tPR, RS, SC\n",
        "\n",
        "지역별로 추려서 5개의 그룹으로 그룹할 예정\n",
        "\n",
        "\n",
        "\n",
        "\n"
      ],
      "metadata": {
        "id": "AvbvuCgxcFCq"
      }
    },
    {
      "cell_type": "code",
      "source": [
        "# 주(State)별 지역 그룹화\n",
        "region_mapping = {\n",
        "    \"North\": [\"AC\", \"AM\", \"AP\", \"PA\", \"RO\", \"RR\", \"TO\"],\n",
        "    \"Northeast\": [\"AL\", \"BA\", \"CE\", \"MA\", \"PB\", \"PE\", \"PI\", \"RN\", \"SE\"],\n",
        "    \"Central-West\": [\"DF\", \"GO\", \"MT\", \"MS\"],\n",
        "    \"Southeast\": [\"ES\", \"MG\", \"RJ\", \"SP\"],\n",
        "    \"South\": [\"PR\", \"RS\", \"SC\"]\n",
        "}\n",
        "\n",
        "# 데이터프레임에 지역 추가\n",
        "customers_orders_new[\"region\"] = customers_orders_new[\"customer_state\"].map(lambda x: next((k for k, v in region_mapping.items() if x in v), \"Unknown\"))\n",
        "\n",
        "# 1. 지역(Region)별 인기 제품 분석\n",
        "region_popular_products = customers_orders_new.groupby(['region', 'product_category_name_english']).size().reset_index(name='purchase_count')\n",
        "\n",
        "# 각 지역에서 가장 많이 판매된 제품 카테고리 찾기\n",
        "top_products_per_region = region_popular_products.sort_values(['region', 'purchase_count'], ascending=[True, False]).groupby('region').head(5).reset_index()\n",
        "\n",
        "# 2. 특정 지역 고객의 구매 패턴 분석\n",
        "# 고객이 구매한 제품과 지역별 인기 제품 매칭\n",
        "customer_purchases = customers_orders_new.merge(top_products_per_region, on='region', suffixes=('_customer', '_region'))\n",
        "\n",
        "\n"
      ],
      "metadata": {
        "id": "s68QbgeictWK"
      },
      "execution_count": null,
      "outputs": []
    },
    {
      "cell_type": "code",
      "source": [
        "top_products_per_region\n",
        "#각 지역에서 가장 많이 판매된 카테고리"
      ],
      "metadata": {
        "id": "fhyC6_4oc5xK"
      },
      "execution_count": null,
      "outputs": []
    },
    {
      "cell_type": "code",
      "source": [
        "import matplotlib.pyplot as plt\n",
        "import seaborn as sns\n",
        "\n",
        "# \"Southeast\"가 포함된 모든 지역 데이터 필터링\n",
        "southeast_data = top_products_per_region[top_products_per_region['region'].str.contains(\"Southeast\")]\n",
        "\n",
        "# 그래프 크기 설정\n",
        "fig, ax = plt.subplots(figsize=(14, 6))  # 단일 플롯이므로 axes가 아닌 ax 사용\n",
        "\n",
        "# Southeast 지역 그래프\n",
        "sns.barplot(\n",
        "    data=southeast_data,\n",
        "    x='region',\n",
        "    y='purchase_count',\n",
        "    hue='product_category_name_english',\n",
        "    dodge=True,\n",
        "    ax=ax  # 단일 플롯이므로 ax 사용\n",
        ")\n",
        "\n",
        "# 그래프 제목 및 라벨\n",
        "ax.set_title(\"Top 5 Most Sold Product Categories in Southeast\", fontsize=14)\n",
        "ax.set_xlabel(\"Region\", fontsize=12)\n",
        "ax.tick_params(axis='x', rotation=45)\n",
        "ax.legend(title=\"Product Category\")\n",
        "\n",
        "# 레이아웃 조정 및 출력\n",
        "plt.tight_layout()\n",
        "plt.show()\n",
        "\n"
      ],
      "metadata": {
        "id": "4NOUDc3yZOfq"
      },
      "execution_count": null,
      "outputs": []
    },
    {
      "cell_type": "markdown",
      "source": [
        "# **STEP02**"
      ],
      "metadata": {
        "id": "H7MgJM2x6zyO"
      }
    },
    {
      "cell_type": "code",
      "source": [],
      "metadata": {
        "id": "TY7W0JSz61Dn"
      },
      "execution_count": null,
      "outputs": []
    },
    {
      "cell_type": "markdown",
      "metadata": {
        "id": "5ikwkZs9RpNH"
      },
      "source": [
        "## 동일한 테이블 사용하므로 병합 과정 생략"
      ]
    },
    {
      "cell_type": "code",
      "execution_count": null,
      "metadata": {
        "id": "BToWOyctHt1l"
      },
      "outputs": [],
      "source": [
        "from google.colab import drive\n",
        "drive.mount('/content/drive')"
      ]
    },
    {
      "cell_type": "code",
      "execution_count": null,
      "metadata": {
        "id": "8rUqjTYbJDAN"
      },
      "outputs": [],
      "source": [
        "import pandas as pd\n",
        "\n",
        "df = pd.read_csv('/content/drive/MyDrive/Colab Notebooks/Brazilian E-Commerce Public Dataset/eng_ver.csv')\n",
        "\n",
        "#원본 백업\n",
        "df_origin = df.copy()"
      ]
    },
    {
      "cell_type": "code",
      "execution_count": null,
      "metadata": {
        "id": "0GEpcAxCWhPm"
      },
      "outputs": [],
      "source": [
        "#전체 컬럼 보기 설정\n",
        "pd.set_option('display.max_columns', None)\n",
        "#필수 컬럼만 남김\n",
        "df = df[['order_id', 'customer_unique_id', 'product_id', 'order_item_id', 'product_category_name_english']]\n",
        "#컬럼명 변경\n",
        "df.rename(columns={'product_category_name_english': 'product_category_name'}, inplace=True)\n",
        "\n",
        "\n",
        "df.info()"
      ]
    },
    {
      "cell_type": "markdown",
      "metadata": {
        "id": "riTumGurWhQv"
      },
      "source": [
        "## 결측치"
      ]
    },
    {
      "cell_type": "code",
      "execution_count": null,
      "metadata": {
        "id": "JU46-dW_XR9H"
      },
      "outputs": [],
      "source": [
        "df.isna().sum()"
      ]
    },
    {
      "cell_type": "code",
      "execution_count": null,
      "metadata": {
        "id": "jJSnla1oY-Df"
      },
      "outputs": [],
      "source": [
        "df.isna().mean()"
      ]
    },
    {
      "cell_type": "code",
      "execution_count": null,
      "metadata": {
        "id": "jC3JRY5DZIjF"
      },
      "outputs": [],
      "source": [
        "df[df['product_category_name'].isna()]"
      ]
    },
    {
      "cell_type": "markdown",
      "metadata": {
        "id": "ZUWexs4AOj6C"
      },
      "source": [
        "임의로 채우면 오히려 노이즈가 발생할 확률이 높다고 판단, 제거해도 치명적인 데이터 양이 아니라 drop 결정"
      ]
    },
    {
      "cell_type": "code",
      "execution_count": null,
      "metadata": {
        "id": "VjR8ZIaQaG8P"
      },
      "outputs": [],
      "source": [
        "product_category_name_nan = df[df['product_category_name'].isna()].index\n",
        "product_id_nan = df[df['product_id'].isna()].index\n",
        "order_item_id_nan = df[df['order_item_id'].isna()].index"
      ]
    },
    {
      "cell_type": "code",
      "execution_count": null,
      "metadata": {
        "id": "RC7f50Ewagkm"
      },
      "outputs": [],
      "source": [
        "len(df)"
      ]
    },
    {
      "cell_type": "code",
      "execution_count": null,
      "metadata": {
        "id": "YMt8Y-lWa3W-"
      },
      "outputs": [],
      "source": [
        "df.dropna()"
      ]
    },
    {
      "cell_type": "markdown",
      "metadata": {
        "id": "1Cudh0PRW2wB"
      },
      "source": [
        "## 재구매율 구하기\n",
        "→ 전체 고객 중, 특정 카테고리를 한 번 이상 반복 구매한 고객의 비율"
      ]
    },
    {
      "cell_type": "code",
      "execution_count": null,
      "metadata": {
        "id": "-kOvHYtu7W2D"
      },
      "outputs": [],
      "source": [
        "#고객별로 구매한 카테고리 개수 계산\n",
        "customer_category_counts = df.groupby(['customer_unique_id', 'product_category_name']).size().reset_index(name='purchase_count')\n",
        "customer_category_counts"
      ]
    },
    {
      "cell_type": "code",
      "execution_count": null,
      "metadata": {
        "id": "UzKwxVhU7kWO"
      },
      "outputs": [],
      "source": [
        "#구매 횟수가 2회 이상인 경우\n",
        "repeat_purchases = customer_category_counts[customer_category_counts['purchase_count'] > 1]\n",
        "repeat_purchases"
      ]
    },
    {
      "cell_type": "code",
      "execution_count": null,
      "metadata": {
        "id": "u4yWfQ-g7lPv"
      },
      "outputs": [],
      "source": [
        "#재구매 고객 수\n",
        "repeat_customer_count = repeat_purchases['customer_unique_id'].nunique()\n",
        "repeat_customer_count"
      ]
    },
    {
      "cell_type": "code",
      "execution_count": null,
      "metadata": {
        "id": "ALT8PusN7lqG"
      },
      "outputs": [],
      "source": [
        "#전체 고객 수\n",
        "total_customers = df['customer_unique_id'].nunique()\n",
        "total_customers"
      ]
    },
    {
      "cell_type": "code",
      "execution_count": null,
      "metadata": {
        "id": "ayS_onzM75hH"
      },
      "outputs": [],
      "source": [
        "#재구매율\n",
        "repeat_purchase_rate = repeat_customer_count / total_customers\n",
        "print(repeat_purchase_rate)\n",
        "round(repeat_purchase_rate*100,2)"
      ]
    },
    {
      "cell_type": "markdown",
      "metadata": {
        "id": "PEMWA57eSmFB"
      },
      "source": [
        "## 카테고리별 재구매율 확인\n",
        "### 목적\n",
        "어떤 제품군이 재구매가 활발한지 분석하여 **전략 수립** 가능\n",
        "### 방법\n",
        "각 product_category_name별로 고객이 동일한 카테고리를 다시 구매한 비율을 계산"
      ]
    },
    {
      "cell_type": "code",
      "execution_count": null,
      "metadata": {
        "id": "UepOgFMBPh5d"
      },
      "outputs": [],
      "source": [
        "# 각 카테고리별 고객의 구매 횟수 계산\n",
        "category_repeat_counts = df.groupby(['product_category_name', 'customer_unique_id']).size().reset_index(name='purchase_count')\n",
        "\n",
        "# 각 카테고리에서 재구매한 고객 수 계산\n",
        "category_repurchase = category_repeat_counts[category_repeat_counts['purchase_count'] > 1]\n",
        "category_repurchase_rate = (\n",
        "    category_repurchase.groupby('product_category_name')['customer_unique_id'].nunique()\n",
        "    / category_repeat_counts.groupby('product_category_name')['customer_unique_id'].nunique()\n",
        ") * 100\n",
        "\n",
        "# 특정 카테고리만 필터링(bed_bath_table을 제외한 Step01의 TOP5 카테고리)\n",
        "selected_categories = ['furniture_decor', 'health_beauty', 'sports_leisure', 'computers_accessories']\n",
        "filtered_repurchase_rate = category_repurchase_rate[category_repurchase_rate.index.isin(selected_categories)]\n",
        "filtered_repurchase_rate"
      ]
    },
    {
      "cell_type": "code",
      "execution_count": null,
      "metadata": {
        "id": "kJTIq8rDmKAW"
      },
      "outputs": [],
      "source": [
        "# Seaborn을 활용한 시각화\n",
        "import seaborn as sns\n",
        "import matplotlib.pyplot as plt\n",
        "\n",
        "# Seaborn 스타일 설정\n",
        "sns.set_style(\"whitegrid\")\n",
        "\n",
        "# 그래프 그리기\n",
        "plt.figure(figsize=(8, 5))\n",
        "ax = sns.barplot(x=filtered_repurchase_rate.values, y=filtered_repurchase_rate.index, palette=\"viridis\")\n",
        "\n",
        "# 레이블 추가\n",
        "plt.xlabel(\"Repurchase Rate (%)\")\n",
        "plt.ylabel(\"Product Category\")\n",
        "plt.title(\"Repurchase Rate by Selected Categories\")\n",
        "\n",
        "# 수치 정확하게 표시\n",
        "for index, value in enumerate(filtered_repurchase_rate):\n",
        "    ax.text(value + 0.5, index, f\"{value:.2f}%\", va='center', fontsize=10)\n",
        "\n",
        "plt.xlim(0, max(filtered_repurchase_rate) + 5)\n",
        "plt.show()\n"
      ]
    },
    {
      "cell_type": "markdown",
      "metadata": {
        "id": "Z1aEbVVIU4yV"
      },
      "source": [
        "→ 가장 재구매율이 높은 것은 **furniture_decor**로 확인."
      ]
    },
    {
      "cell_type": "markdown",
      "metadata": {
        "id": "kexFU43_Q-Ab"
      },
      "source": [
        "## 통계적 검증\n",
        "고객이 동일 카테고리를 반복 구매할 확률이 무작위보다 높은지 검정하고자 함.\n",
        "\n",
        "### 카이제곱검정\n",
        "→ 고객의 재구매 여부는 범주형 데이터이므로 두 변수가 서로 독립적인지 확인\n",
        "- **변수 1:** 고객이 특정 카테고리를 재구매했는가? (Yes / No)\n",
        "- **변수 2:** 제품 카테고리\n",
        "\n",
        "\n",
        "- **귀무가설 (H₀):** 고객이 과거에 구매한 카테고리를 다시 구매하는 것은 **랜덤**이다.\n",
        "    \n",
        "    → 고객이 이전에 구매한 카테고리와 관계없이 아무 카테고리나 다시 구매할 가능성이 동일하다.\n",
        "    \n",
        "- **대립가설 (H₁):** 고객은 과거에 구매한 카테고리를 다시 구매할 가능성이 **유의미하다.**\n",
        "    \n",
        "    → 특정 카테고리를 한 번 구매한 고객은 다시 같은 카테고리를 구매하는 경향이 있다.\n",
        "        \n",
        "따라서 p-value가 0.05보다 작다면 \"고객이 과거에 구매한 카테고리를 다시 구매하는 경향이 있다\"고 판단할 수 있다."
      ]
    },
    {
      "cell_type": "code",
      "execution_count": null,
      "metadata": {
        "id": "3TyORsu39cE_"
      },
      "outputs": [],
      "source": [
        "from scipy.stats import chi2_contingency\n",
        "\n",
        "# 재구매 여부를 나타내는 컬럼 추가\n",
        "df['repeat_purchase'] = df.duplicated(subset=['customer_unique_id', 'product_category_name'], keep=False)\n",
        "\n",
        "# 교차표 생성\n",
        "contingency_table = pd.crosstab(df['repeat_purchase'], df['product_category_name'])\n",
        "\n",
        "# 카이제곱 검정 실행\n",
        "chi2, p, dof, expected = chi2_contingency(contingency_table)\n",
        "\n",
        "# 결과 출력\n",
        "print(f\"Chi-square statistic: {chi2}\")\n",
        "print(f\"P-value: {p}\")\n",
        "\n",
        "# 유의 수준 0.05 기준 검정 결과 해석\n",
        "if p < 0.05:\n",
        "    print(\"과거에 구매한 적 있는 카테고리에서 재구매할 가능성이 유의미하게 높음.\")\n",
        "else:\n",
        "    print(\"우연적 결과.\")\n"
      ]
    },
    {
      "cell_type": "markdown",
      "source": [
        "# **STEP03**"
      ],
      "metadata": {
        "id": "cJUCodME7FcE"
      }
    },
    {
      "cell_type": "markdown",
      "source": [
        "전환율 구하기"
      ],
      "metadata": {
        "id": "38TLle387lul"
      }
    },
    {
      "cell_type": "code",
      "source": [
        "df_new=pd.read_csv('/content/gdrive/MyDrive/MainQuest04/step02.csv')"
      ],
      "metadata": {
        "id": "tpGnYG93p2rr"
      },
      "execution_count": null,
      "outputs": []
    },
    {
      "cell_type": "code",
      "source": [
        "customer_category_counts = df_new.groupby(['customer_unique_id', 'product_category_name']).size().reset_index(name='purchase_count')\n",
        "\n",
        "#여러 개의 카테고리를 구매한 고객만 필터링\n",
        "multi_category_customers = customer_category_counts[customer_category_counts.duplicated(subset=['customer_unique_id'], keep=False)]\n",
        "\n",
        "#각 고객이 구매한 모든 카테고리 조합을 생성\n",
        "customer_category_pairs = multi_category_customers.groupby('customer_unique_id')['product_category_name'].apply(set).reset_index()\n",
        "\n",
        "#모든 조합을 추출하여 빈도수 계산\n",
        "from itertools import combinations\n",
        "from collections import Counter\n",
        "\n",
        "category_combinations = Counter()\n",
        "\n",
        "for categories in customer_category_pairs['product_category_name']:\n",
        "    for combo in combinations(categories, 2):\n",
        "        category_combinations[frozenset(combo)] += 1\n",
        "\n",
        "#데이터프레임으로 변환\n",
        "category_combinations_df = pd.DataFrame(category_combinations.items(), columns=['Category Pair', 'Count'])\n",
        "category_combinations_df = category_combinations_df.sort_values(by='Count', ascending=False)\n",
        "\n",
        "#'bed_bath_table'과 함께 구매된 카테고리 필터링\n",
        "bed_bath_related_combinations = category_combinations_df[category_combinations_df['Category Pair'].apply(lambda x: 'bed_bath_table' in x)].copy()\n",
        "\n",
        "#'bed_bath_table'과 함께 구매된 카테고리를 추출\n",
        "bed_bath_related_combinations['Other Category'] = bed_bath_related_combinations['Category Pair'].apply(lambda x: list(x - {'bed_bath_table'})[0])\n",
        "\n",
        "#'bed_bath_table'의 총 구매 횟수 계산\n",
        "bed_bath_total_sales = df_new[df_new['product_category_name'] == 'bed_bath_table'].shape[0]\n",
        "\n",
        "#전환율(%) 계산\n",
        "bed_bath_related_combinations['Conversion Rate (%)'] = (bed_bath_related_combinations['Count'] / bed_bath_total_sales) * 100\n",
        "\n",
        "#가장 높은 전환율을 가진 카테고리 찾기\n",
        "top_conversion_category = bed_bath_related_combinations.sort_values(by='Count', ascending=False).iloc[0]\n",
        "\n",
        "#최종 결과 출력\n",
        "top_conversion_category\n",
        "bed_bath_related_combinations.head() # 여기서 말하는 전환률은 함께 구입한 경우의 수를 의미한다."
      ],
      "metadata": {
        "id": "B8nx24Ucpxw3"
      },
      "execution_count": null,
      "outputs": []
    },
    {
      "cell_type": "code",
      "source": [
        "\n",
        "# 1. 구매 이력 정리 (고객별 구매 순서 정렬)\n",
        "if 'order_purchase_timestamp' in df_new.columns:\n",
        "    df_new['order_purchase_timestamp'] = pd.to_datetime(df_new['order_purchase_timestamp'])\n",
        "    df_sorted = df_new.sort_values(by=['customer_unique_id', 'order_purchase_timestamp'])\n",
        "else:\n",
        "    # 구매 날짜 정보가 없는 경우, order_id 기준 정렬\n",
        "    df_sorted = df_new.sort_values(by=['customer_unique_id', 'order_id'])\n",
        "\n",
        "# 2. 고객별 첫 번째 구매 카테고리 확인\n",
        "df_sorted['previous_category'] = df_sorted.groupby('customer_unique_id')['product_category_name'].shift(1)\n",
        "\n",
        "# 3. 'bed_bath_table' 구매 이후 다른 카테고리를 구매한 경우 필터링\n",
        "df_transitions = df_sorted[(df_sorted['previous_category'] == 'bed_bath_table') &\n",
        "                           (df_sorted['product_category_name'] != 'bed_bath_table')]\n",
        "\n",
        "# 4. bed_bath_table 이후 가장 많이 구매된 카테고리 및 전환율 계산\n",
        "transition_counts = df_transitions['product_category_name'].value_counts()\n",
        "total_bed_bath_customers = df_sorted[df_sorted['product_category_name'] == 'bed_bath_table']['customer_unique_id'].nunique()\n",
        "\n",
        "# 5. 전환율(%) 계산\n",
        "transition_rates = (transition_counts / total_bed_bath_customers) * 100\n",
        "transition_rates_df = transition_rates.reset_index()\n",
        "transition_rates_df.columns = ['Next Category', 'Transition Rate (%)']\n",
        "\n",
        "# 결과 출력\n",
        "transition_rates_df"
      ],
      "metadata": {
        "id": "POW3ZSGCrk80"
      },
      "execution_count": null,
      "outputs": []
    },
    {
      "cell_type": "markdown",
      "source": [
        "# **STEP04**"
      ],
      "metadata": {
        "id": "TfxOXGJG8LtV"
      }
    },
    {
      "cell_type": "code",
      "source": [],
      "metadata": {
        "id": "lxmezZD_8OB9"
      },
      "execution_count": null,
      "outputs": []
    },
    {
      "cell_type": "markdown",
      "source": [
        "**고객이 가장 많이 이동하는 카테고리 구하기**\n",
        "\n",
        "STEP 3과 다르게 장기적인 관점에서 본 전환건수\n",
        "\n",
        "bed_bath_table을 구매 후 기간을 두지 않고 다른 카테고리를 구매한 건수를 의미함"
      ],
      "metadata": {
        "id": "JpgABL_E8VsB"
      }
    },
    {
      "cell_type": "code",
      "execution_count": null,
      "metadata": {
        "id": "lu2ndReuueRZ"
      },
      "outputs": [],
      "source": [
        "import pandas as pd\n",
        "df = pd.read_csv('/content/drive/MyDrive/Colab Notebooks/Brazilian E-Commerce Public Dataset/Step02.csv')\n",
        "\n",
        "#원본 백업\n",
        "df_step02 = df.copy()"
      ]
    },
    {
      "cell_type": "code",
      "source": [
        "# 특정 카테고리(bed_bath_table) 구매 고객 리스트\n",
        "bbt_customers = df[df[\"product_category_name\"] == \"bed_bath_table\"][\"customer_unique_id\"].unique()\n",
        "\n",
        "# 해당 고객들의 전체 구매 내역 가져오기\n",
        "bbt_followup_purchases = df[df[\"customer_unique_id\"].isin(bbt_customers)]\n",
        "\n",
        "# 'bed_bath_table'이 아닌 다른 카테고리의 구매 건수 집계\n",
        "bbt_conversion_counts = (\n",
        "    bbt_followup_purchases[bbt_followup_purchases[\"product_category_name\"] != \"bed_bath_table\"]\n",
        "    [\"product_category_name_english\"].value_counts()\n",
        ")\n",
        "\n",
        "# 상위 10개 카테고리 출력\n",
        "bbt_conversion_counts.head(5)"
      ],
      "metadata": {
        "id": "EyJm3HJ4vDBw"
      },
      "execution_count": null,
      "outputs": []
    },
    {
      "cell_type": "code",
      "source": [
        "# 시각화를 위한 라이브러리 불러오기\n",
        "import matplotlib.pyplot as plt\n",
        "import seaborn as sns\n",
        "\n",
        "# Seaborn 스타일 설정\n",
        "sns.set_style(\"whitegrid\")\n",
        "\n",
        "# 그래프 그리기\n",
        "plt.figure(figsize=(10, 5))\n",
        "ax = sns.barplot(x=bbt_conversion_counts.head(5).values, y=bbt_conversion_counts.head(5).index, palette=\"coolwarm\")\n",
        "\n",
        "# 레이블 추가\n",
        "plt.xlabel(\"Number of Purchases\")\n",
        "plt.ylabel(\"Product Category\")\n",
        "plt.title(\"Top 5 Categories Customers Convert to from Bed_Bath_Table\")\n",
        "\n",
        "# 수치 정확하게 표시\n",
        "for index, value in enumerate(bbt_conversion_counts.head(5).values):\n",
        "    ax.text(value + 2, index, f\"{value}\", va='center', fontsize=12)\n",
        "\n",
        "plt.xlim(0, max(bbt_conversion_counts.head(10)) + 20)\n",
        "plt.show()\n"
      ],
      "metadata": {
        "id": "MnGfojw_v0a4"
      },
      "execution_count": null,
      "outputs": []
    },
    {
      "cell_type": "markdown",
      "source": [
        "### 카이제곱검증 수행\n",
        "특정 카테고리가 단순히 인기 있는 것인지, Bed_Bath_Table 구매자에게 특별한 연관성이 있는지 알기 위함"
      ],
      "metadata": {
        "id": "Wym6pUMWykzM"
      }
    },
    {
      "cell_type": "code",
      "source": [
        "from scipy.stats import chi2_contingency\n",
        "\n",
        "# Bed_Bath_Table 구매자 중 Furniture_Decor 추가 구매 고객 수\n",
        "bbt_furniture_count = bbt_followup_purchases[bbt_followup_purchases[\"product_category_name\"] == \"furniture_decor\"][\"customer_unique_id\"].nunique()\n",
        "\n",
        "# 비구매자 중 Furniture_Decor 구매 고객 수\n",
        "non_bbt_furniture_count = df[\n",
        "    (df[\"product_category_name\"] == \"furniture_decor\") &\n",
        "    (~df[\"customer_unique_id\"].isin(bbt_customers))\n",
        "][\"customer_unique_id\"].nunique()\n",
        "\n",
        "# 전체 Bed_Bath_Table 구매 고객 수\n",
        "bbt_total = len(bbt_customers)\n",
        "\n",
        "# 전체 고객 수 중 Bed_Bath_Table 미구매자 수\n",
        "non_bbt_total = len(df[\"customer_unique_id\"].unique()) - bbt_total\n",
        "\n",
        "# 교차표 구성\n",
        "contingency_table = [\n",
        "    [bbt_furniture_count, bbt_total - bbt_furniture_count],  # Bed_Bath_Table 구매자\n",
        "    [non_bbt_furniture_count, non_bbt_total - non_bbt_furniture_count]  # 비구매자\n",
        "]\n",
        "\n",
        "# 카이제곱 검정 수행\n",
        "chi2, p, dof, expected = chi2_contingency(contingency_table)\n",
        "\n",
        "# 결과 출력\n",
        "print(f\"카이제곱 통계량: {chi2:.4f}, p-value: {p:.10f}\")\n",
        "\n",
        "if p < 0.05:\n",
        "    print(\"→ Bed_Bath_Table 구매자와 Furniture_Decor 구매 간 유의미한 관계가 있음.\")\n",
        "else:\n",
        "    print(\"→ Bed_Bath_Table 구매자와 Furniture_Decor 구매 간 유의미한 관계가 없음.\")\n"
      ],
      "metadata": {
        "id": "ZEbYAjJMyjYu"
      },
      "execution_count": null,
      "outputs": []
    },
    {
      "cell_type": "markdown",
      "source": [
        "### 전환이 유의미한지 확인하기 위해 전환율 확인"
      ],
      "metadata": {
        "id": "_vm8Jwz92IVT"
      }
    },
    {
      "cell_type": "code",
      "source": [
        "# Bed_Bath_Table을 구매한 전체 고객 수\n",
        "bbt_total_customers = len(bbt_customers)\n",
        "\n",
        "# 각 카테고리별 전환율 계산 (Bed_Bath_Table 구매자 중 특정 카테고리도 구매한 고객 비율)\n",
        "bbt_conversion_rates = (\n",
        "    bbt_followup_purchases[bbt_followup_purchases[\"product_category_name\"] != \"bed_bath_table\"]\n",
        "    .groupby(\"product_category_name\")[\"customer_unique_id\"].nunique() / bbt_total_customers\n",
        ") * 100\n",
        "\n",
        "# 전환율 상위 5개 카테고리 확인\n",
        "bbt_conversion_rates = bbt_conversion_rates.sort_values(ascending=False)\n",
        "\n",
        "# 결과 출력\n",
        "bbt_conversion_rates.head(5)\n"
      ],
      "metadata": {
        "id": "O0uKh9qI2EHR"
      },
      "execution_count": null,
      "outputs": []
    },
    {
      "cell_type": "markdown",
      "source": [
        "Bed_Bath_Table 고객이 가장 많이 이동하는 카테고리가 furniture_decor인 것은 맞지만, 1.7%에 불과해 전환율을 높일 방안 강구가 남은 숙제."
      ],
      "metadata": {
        "id": "UL3f9G9B2yfF"
      }
    }
  ]
}