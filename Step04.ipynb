{
  "nbformat": 4,
  "nbformat_minor": 0,
  "metadata": {
    "colab": {
      "provenance": [],
      "mount_file_id": "1afy-sRVzh0iUclxxLVJFRXQU3vv1b-TS",
      "authorship_tag": "ABX9TyMuB7kW5cnBsx6EQG8BdOiD",
      "include_colab_link": true
    },
    "kernelspec": {
      "name": "python3",
      "display_name": "Python 3"
    },
    "language_info": {
      "name": "python"
    }
  },
  "cells": [
    {
      "cell_type": "markdown",
      "metadata": {
        "id": "view-in-github",
        "colab_type": "text"
      },
      "source": [
        "<a href=\"https://colab.research.google.com/github/posili/Modulabs_MainProject4/blob/master/Step04.ipynb\" target=\"_parent\"><img src=\"https://colab.research.google.com/assets/colab-badge.svg\" alt=\"Open In Colab\"/></a>"
      ]
    },
    {
      "cell_type": "code",
      "source": [
        "from google.colab import drive\n",
        "drive.mount('/content/drive')"
      ],
      "metadata": {
        "colab": {
          "base_uri": "https://localhost:8080/"
        },
        "id": "-qGHTr06uvxv",
        "outputId": "11113432-dbaf-4de6-9361-054c0b07ea5f"
      },
      "execution_count": 8,
      "outputs": [
        {
          "output_type": "stream",
          "name": "stdout",
          "text": [
            "Drive already mounted at /content/drive; to attempt to forcibly remount, call drive.mount(\"/content/drive\", force_remount=True).\n"
          ]
        }
      ]
    },
    {
      "cell_type": "code",
      "execution_count": 9,
      "metadata": {
        "id": "lu2ndReuueRZ"
      },
      "outputs": [],
      "source": [
        "import pandas as pd\n",
        "df = pd.read_csv('/content/drive/MyDrive/Colab Notebooks/Brazilian E-Commerce Public Dataset/Step02.csv')\n",
        "\n",
        "#원본 백업\n",
        "df_step02 = df.copy()"
      ]
    },
    {
      "cell_type": "code",
      "source": [
        "# 특정 카테고리(bed_bath_table) 구매 고객 리스트\n",
        "bbt_customers = df[df[\"product_category_name\"] == \"bed_bath_table\"][\"customer_unique_id\"].unique()\n",
        "\n",
        "# 해당 고객들의 전체 구매 내역 가져오기\n",
        "bbt_followup_purchases = df[df[\"customer_unique_id\"].isin(bbt_customers)]\n",
        "\n",
        "# 'bed_bath_table'이 아닌 다른 카테고리의 구매 건수 집계\n",
        "bbt_conversion_counts = (\n",
        "    bbt_followup_purchases[bbt_followup_purchases[\"product_category_name\"] != \"bed_bath_table\"]\n",
        "    [\"product_category_name\"].value_counts()\n",
        ")\n",
        "\n",
        "# 상위 5개 카테고리 출력\n",
        "bbt_conversion_counts.head(5)"
      ],
      "metadata": {
        "colab": {
          "base_uri": "https://localhost:8080/",
          "height": 272
        },
        "id": "EyJm3HJ4vDBw",
        "outputId": "39c838e3-d90b-4f3c-9a0f-a39593e21ccf"
      },
      "execution_count": 10,
      "outputs": [
        {
          "output_type": "execute_result",
          "data": {
            "text/plain": [
              "product_category_name\n",
              "furniture_decor    218\n",
              "housewares          91\n",
              "home_confort        58\n",
              "baby                39\n",
              "health_beauty       34\n",
              "Name: count, dtype: int64"
            ],
            "text/html": [
              "<div>\n",
              "<style scoped>\n",
              "    .dataframe tbody tr th:only-of-type {\n",
              "        vertical-align: middle;\n",
              "    }\n",
              "\n",
              "    .dataframe tbody tr th {\n",
              "        vertical-align: top;\n",
              "    }\n",
              "\n",
              "    .dataframe thead th {\n",
              "        text-align: right;\n",
              "    }\n",
              "</style>\n",
              "<table border=\"1\" class=\"dataframe\">\n",
              "  <thead>\n",
              "    <tr style=\"text-align: right;\">\n",
              "      <th></th>\n",
              "      <th>count</th>\n",
              "    </tr>\n",
              "    <tr>\n",
              "      <th>product_category_name</th>\n",
              "      <th></th>\n",
              "    </tr>\n",
              "  </thead>\n",
              "  <tbody>\n",
              "    <tr>\n",
              "      <th>furniture_decor</th>\n",
              "      <td>218</td>\n",
              "    </tr>\n",
              "    <tr>\n",
              "      <th>housewares</th>\n",
              "      <td>91</td>\n",
              "    </tr>\n",
              "    <tr>\n",
              "      <th>home_confort</th>\n",
              "      <td>58</td>\n",
              "    </tr>\n",
              "    <tr>\n",
              "      <th>baby</th>\n",
              "      <td>39</td>\n",
              "    </tr>\n",
              "    <tr>\n",
              "      <th>health_beauty</th>\n",
              "      <td>34</td>\n",
              "    </tr>\n",
              "  </tbody>\n",
              "</table>\n",
              "</div><br><label><b>dtype:</b> int64</label>"
            ]
          },
          "metadata": {},
          "execution_count": 10
        }
      ]
    },
    {
      "cell_type": "code",
      "source": [
        "# 시각화를 위한 라이브러리 불러오기\n",
        "import matplotlib.pyplot as plt\n",
        "import seaborn as sns\n",
        "\n",
        "# Seaborn 스타일 설정\n",
        "sns.set_style(\"whitegrid\")\n",
        "\n",
        "# 그래프 그리기\n",
        "plt.figure(figsize=(10, 5))\n",
        "ax = sns.barplot(x=bbt_conversion_counts.head(5).values, y=bbt_conversion_counts.head(5).index, palette=\"coolwarm\")\n",
        "\n",
        "# 레이블 추가\n",
        "plt.xlabel(\"Number of Purchases\")\n",
        "plt.ylabel(\"Product Category\")\n",
        "plt.title(\"Top 5 Categories Customers Convert to from Bed_Bath_Table\")\n",
        "\n",
        "# 수치 정확하게 표시\n",
        "for index, value in enumerate(bbt_conversion_counts.head(5).values):\n",
        "    ax.text(value + 2, index, f\"{value}\", va='center', fontsize=12)\n",
        "\n",
        "plt.xlim(0, max(bbt_conversion_counts.head(5)) + 20)\n",
        "plt.show()\n"
      ],
      "metadata": {
        "colab": {
          "base_uri": "https://localhost:8080/",
          "height": 579
        },
        "id": "MnGfojw_v0a4",
        "outputId": "e1bea951-4366-4314-dfc9-6131a57f04d8"
      },
      "execution_count": 11,
      "outputs": [
        {
          "output_type": "stream",
          "name": "stderr",
          "text": [
            "<ipython-input-11-d95202dfa712>:10: FutureWarning: \n",
            "\n",
            "Passing `palette` without assigning `hue` is deprecated and will be removed in v0.14.0. Assign the `y` variable to `hue` and set `legend=False` for the same effect.\n",
            "\n",
            "  ax = sns.barplot(x=bbt_conversion_counts.head(5).values, y=bbt_conversion_counts.head(5).index, palette=\"coolwarm\")\n"
          ]
        },
        {
          "output_type": "display_data",
          "data": {
            "text/plain": [
              "<Figure size 1000x500 with 1 Axes>"
            ],
            "image/png": "[encoded data removed]"
          },
          "metadata": {}
        }
      ]
    },
    {
      "cell_type": "markdown",
      "source": [
        "### 카이제곱검증 수행\n",
        "특정 카테고리가 단순히 인기 있는 것인지, Bed_Bath_Table 구매자에게 특별한 연관성이 있는지 알기 위함"
      ],
      "metadata": {
        "id": "Wym6pUMWykzM"
      }
    },
    {
      "cell_type": "code",
      "source": [
        "from scipy.stats import chi2_contingency\n",
        "\n",
        "# Bed_Bath_Table 구매자 중 Furniture_Decor 추가 구매 고객 수\n",
        "bbt_furniture_count = bbt_followup_purchases[bbt_followup_purchases[\"product_category_name\"] == \"furniture_decor\"][\"customer_unique_id\"].nunique()\n",
        "\n",
        "# 비구매자 중 Furniture_Decor 구매 고객 수\n",
        "non_bbt_furniture_count = df[\n",
        "    (df[\"product_category_name\"] == \"furniture_decor\") &\n",
        "    (~df[\"customer_unique_id\"].isin(bbt_customers))\n",
        "][\"customer_unique_id\"].nunique()\n",
        "\n",
        "# 전체 Bed_Bath_Table 구매 고객 수\n",
        "bbt_total = len(bbt_customers)\n",
        "\n",
        "# 전체 고객 수 중 Bed_Bath_Table 미구매자 수\n",
        "non_bbt_total = len(df[\"customer_unique_id\"].unique()) - bbt_total\n",
        "\n",
        "# 교차표 구성\n",
        "contingency_table = [\n",
        "    [bbt_furniture_count, bbt_total - bbt_furniture_count],  # Bed_Bath_Table 구매자\n",
        "    [non_bbt_furniture_count, non_bbt_total - non_bbt_furniture_count]  # 비구매자\n",
        "]\n",
        "\n",
        "# 카이제곱 검정 수행\n",
        "chi2, p, dof, expected = chi2_contingency(contingency_table)\n",
        "\n",
        "# 결과 출력\n",
        "print(f\"카이제곱 통계량: {chi2:.4f}, p-value: {p:.10f}\")\n",
        "\n",
        "if p < 0.05:\n",
        "    print(\"→ Bed_Bath_Table 구매자와 Furniture_Decor 구매 간 유의미한 관계가 있음.\")\n",
        "else:\n",
        "    print(\"→ Bed_Bath_Table 구매자와 Furniture_Decor 구매 간 유의미한 관계가 없음.\")\n"
      ],
      "metadata": {
        "colab": {
          "base_uri": "https://localhost:8080/"
        },
        "id": "ZEbYAjJMyjYu",
        "outputId": "fd19fecc-f134-43eb-e704-231f57947915"
      },
      "execution_count": 12,
      "outputs": [
        {
          "output_type": "stream",
          "name": "stdout",
          "text": [
            "카이제곱 통계량: 389.0684, p-value: 0.0000000000\n",
            "→ Bed_Bath_Table 구매자와 Furniture_Decor 구매 간 유의미한 관계가 있음.\n"
          ]
        }
      ]
    },
    {
      "cell_type": "markdown",
      "source": [
        "### 전환이 유의미한지 확인하기 위해 전환율 확인"
      ],
      "metadata": {
        "id": "_vm8Jwz92IVT"
      }
    },
    {
      "cell_type": "code",
      "source": [
        "# Bed_Bath_Table을 구매한 전체 고객 수\n",
        "bbt_total_customers = len(bbt_customers)\n",
        "\n",
        "# 각 카테고리별 전환율 계산 (Bed_Bath_Table 구매자 중 특정 카테고리도 구매한 고객 비율)\n",
        "bbt_conversion_rates = (\n",
        "    bbt_followup_purchases[bbt_followup_purchases[\"product_category_name\"] != \"bed_bath_table\"]\n",
        "    .groupby(\"product_category_name\")[\"customer_unique_id\"].nunique() / bbt_total_customers\n",
        ") * 100\n",
        "\n",
        "# 전환율 상위 5개 카테고리 확인\n",
        "bbt_conversion_rates = bbt_conversion_rates.sort_values(ascending=False)\n",
        "\n",
        "# 결과 출력\n",
        "bbt_conversion_rates.head(5)\n"
      ],
      "metadata": {
        "colab": {
          "base_uri": "https://localhost:8080/",
          "height": 272
        },
        "id": "O0uKh9qI2EHR",
        "outputId": "364e79bf-6393-4930-a092-f93478b782b9"
      },
      "execution_count": 13,
      "outputs": [
        {
          "output_type": "execute_result",
          "data": {
            "text/plain": [
              "product_category_name\n",
              "furniture_decor    1.705850\n",
              "housewares         0.732641\n",
              "home_confort       0.590487\n",
              "baby               0.404593\n",
              "health_beauty      0.317113\n",
              "Name: customer_unique_id, dtype: float64"
            ],
            "text/html": [
              "<div>\n",
              "<style scoped>\n",
              "    .dataframe tbody tr th:only-of-type {\n",
              "        vertical-align: middle;\n",
              "    }\n",
              "\n",
              "    .dataframe tbody tr th {\n",
              "        vertical-align: top;\n",
              "    }\n",
              "\n",
              "    .dataframe thead th {\n",
              "        text-align: right;\n",
              "    }\n",
              "</style>\n",
              "<table border=\"1\" class=\"dataframe\">\n",
              "  <thead>\n",
              "    <tr style=\"text-align: right;\">\n",
              "      <th></th>\n",
              "      <th>customer_unique_id</th>\n",
              "    </tr>\n",
              "    <tr>\n",
              "      <th>product_category_name</th>\n",
              "      <th></th>\n",
              "    </tr>\n",
              "  </thead>\n",
              "  <tbody>\n",
              "    <tr>\n",
              "      <th>furniture_decor</th>\n",
              "      <td>1.705850</td>\n",
              "    </tr>\n",
              "    <tr>\n",
              "      <th>housewares</th>\n",
              "      <td>0.732641</td>\n",
              "    </tr>\n",
              "    <tr>\n",
              "      <th>home_confort</th>\n",
              "      <td>0.590487</td>\n",
              "    </tr>\n",
              "    <tr>\n",
              "      <th>baby</th>\n",
              "      <td>0.404593</td>\n",
              "    </tr>\n",
              "    <tr>\n",
              "      <th>health_beauty</th>\n",
              "      <td>0.317113</td>\n",
              "    </tr>\n",
              "  </tbody>\n",
              "</table>\n",
              "</div><br><label><b>dtype:</b> float64</label>"
            ]
          },
          "metadata": {},
          "execution_count": 13
        }
      ]
    },
    {
      "cell_type": "markdown",
      "source": [
        "Bed_Bath_Table 고객이 가장 많이 이동하는 카테고리가 furniture_decor인 것은 맞지만, 1.7%에 불과해 전환율을 높일 방안 강구가 남은 숙제."
      ],
      "metadata": {
        "id": "UL3f9G9B2yfF"
      }
    },
    {
      "cell_type": "code",
      "source": [
        "df.to_csv(\"/content/drive/MyDrive/Colab Notebooks/Brazilian E-Commerce Public Dataset/Step04.csv\", index=False)"
      ],
      "metadata": {
        "id": "24z5eJS83PC_"
      },
      "execution_count": 14,
      "outputs": []
    }
  ]
}